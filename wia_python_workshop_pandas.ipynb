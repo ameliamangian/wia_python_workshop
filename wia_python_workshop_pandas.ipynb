{
 "cells": [
  {
   "cell_type": "code",
   "execution_count": 106,
   "metadata": {},
   "outputs": [],
   "source": [
    "#Provide import statements for numpy, matplotlib.pyplot, pandas as pd, and curve_fit from scipy.optimize\n"
   ]
  },
  {
   "cell_type": "code",
   "execution_count": 3,
   "metadata": {},
   "outputs": [],
   "source": [
    "#0. Source ID: the IAU designation for the SPT-detected source.\n",
    "#1. RA: right ascension (J2000) in degrees.\n",
    "#2. DEC: declination (J2000) in degrees.\n",
    "#3. S/N (2.0 mm): detection significance (signal-to-noise ratio) in the 2.0 mm band.\n",
    "#4. Sraw (2.0 mm): raw flux (uncorrected for flux boosting) in the 2.0 mm band.\n",
    "#5. Sbest (2.0 mm): median value of de-boosted flux at 2.0 mm.\n",
    "#6. dSup (2.0 mm): upper error bar (1-sigma normal equivalent) of de-boosted flux at 2.0 mm.\n",
    "#7. dSdown (2.0 mm): lower error bar (1-sigma normal equivalent) of de-boosted flux at 2.0 mm.\n",
    "#8. S/N (1.4 mm): detection significance (signal-to-noise ratio) in the 1.4 mm band.\n",
    "#9. Sraw (1.4 mm): raw flux (uncorrected for flux boosting) in the 1.4 mm band.\n",
    "#10. Sbest (1.4 mm): median value of de-boosted flux at 1.4 mm.\n",
    "#11. dSup (1.4 mm): upper error bar (1-sigma normal equivalent) of de-boosted flux at 1.4 mm.\n",
    "#12. dSdown (1.4 mm): lower error bar (1-sigma normal equivalent) of de-boosted flux at 1.4 mm.\n",
    "#13. alpharaw: estimate (from the raw flux in each band) of the 2.0 mm-1.4 mm spectral index alpha\n",
    "#14. alphabest: median value of spectral index.\n",
    "#15. d_alphaup: upper error bar (1-sigma normal equivalent) of spectral index.\n",
    "#16. d_alphadown (2.0 mm): lower error bar (1-sigma normal equivalent) of spectral index.\n",
    "#17. P(alpha > 1.66): fraction of the spectral index posterior probability distribution above the threshold value of 1.66. A higher value of P means the source is more likely to be dust-dominated.\n",
    "#18. Type: source classification (synchrotron- or dust-dominated).\n",
    "#19. Nearest SUMSS source: angular distance (in arseconds) from the nearest source in the 36 cm (843 MHz) Sydney University Molongolo Sky Survey.\n",
    "#20. Nearest RASS source: angular distance (in arseconds) from the nearest source in the ROSAT All-Sky Survey (RASS) Bright Source Catalog or Faint Source Catalog.\n",
    "#21. Nearest IRAS source: angular distance (in arseconds) from the nearest source in the IRAS Faint-Source Catalog.\n"
   ]
  },
  {
   "cell_type": "code",
   "execution_count": 98,
   "metadata": {},
   "outputs": [],
   "source": [
    "with open('source_table_vieira09_3sigma.dat','r') as f:\n",
    "    df = pd.DataFrame(l.rstrip().split()[1:] for l in f)\n",
    "\n",
    "new_header =  #grab the first row for the header\n",
    "df =  #take the data less the header row\n",
    "df.columns =  #set the header row as the df header\n",
    "\n",
    "df_rem = df"
   ]
  },
  {
   "cell_type": "code",
   "execution_count": 99,
   "metadata": {},
   "outputs": [],
   "source": [
    "# Use for loops and if statements to remove rows with:\n",
    "# S/N(2.0mm) < 4.5 and S/N(1.4mm) < 4.5\n",
    "\n",
    "for index, row in df_rem.iterrows():\n",
    "    if float(row[]) <  and float(row[]) < :\n",
    "        df_rem = df_rem.drop([index])\n",
    "\n",
    "# All sources that made the flux cut\n",
    "# Set a new array for sync sources\n",
    "df_rem_all = df_rem\n",
    "df_sync = df_rem"
   ]
  },
  {
   "cell_type": "code",
   "execution_count": 100,
   "metadata": {},
   "outputs": [],
   "source": [
    "# Use for loops and if statements to remove rows with:\n",
    "# SUMSS, RASS, IRAS, source within 60 arcseconds (df_rem)\n",
    "#\n",
    "# USe for loops and if statments to remove rows with:\n",
    "# dust sources"
   ]
  },
  {
   "cell_type": "code",
   "execution_count": 101,
   "metadata": {},
   "outputs": [],
   "source": [
    "#Flux Cuts\n",
    "sig_2 = 1.3\n",
    "sig_1_4 = 3.4\n",
    "flux_2a = []\n",
    "flux_1_4a = []\n",
    "flux_2 = []\n",
    "flux_1_4 = []\n",
    "flux_s1_4 = []\n",
    "flux_s2 =[]\n",
    "\n",
    "for index, row in df_rem.iterrows():\n",
    "    flux_2.append(float(row[4]))\n",
    "    flux_1_4.append(float(row[9]))\n",
    "    \n",
    "for index, row in df_rem_all.iterrows():\n",
    "    flux_2a.append(float(row[4]))\n",
    "    flux_1_4a.append(float(row[9]))\n",
    "    \n",
    "for index, row in df_sync.iterrows():\n",
    "    flux_s2.append(float(row[4]))\n",
    "    flux_s1_4.append(float(row[9]))\n"
   ]
  },
  {
   "cell_type": "code",
   "execution_count": 107,
   "metadata": {},
   "outputs": [],
   "source": [
    "def line():\n",
    "    return \n",
    "fit, cov = curve_fit() #(func, x, y)"
   ]
  },
  {
   "cell_type": "code",
   "execution_count": 110,
   "metadata": {},
   "outputs": [
    {
     "data": {
      "text/plain": [
       "<matplotlib.legend.Legend at 0x102158ed68>"
      ]
     },
     "execution_count": 110,
     "metadata": {},
     "output_type": "execute_result"
    },
    {
     "data": {
      "image/png": "[encoded data removed]",
      "text/plain": [
       "<Figure size 576x432 with 1 Axes>"
      ]
     },
     "metadata": {
      "needs_background": "light"
     },
     "output_type": "display_data"
    }
   ],
   "source": [
    "#Use scatter plots to plot the 1.4 mm flux versus the 2.0 mm flux for all sources above flux cut\n",
    "# Scatter plot only the ones above cut and that have no counterpart\n",
    "# Plot best fit line using plot\n",
    "# Look how to set up a legend, use different colors and markers\n",
    "\n",
    "fig, ax = plt.subplots(figsize = (8,6))\n",
    "\n",
    "ax.set_yscale('log') # Here is how you change to log space\n",
    "ax.set_xscale('log')\n",
    "plt.xlim(.1,1000)    # here is how you set axes limits\n",
    "plt.ylim(.1,1000)\n",
    "ax.axvline(4.5*sig_2, ls = '--', c = 'k', label =r'Flux Cut (4.5$\\sigma$)')  # here is how you draw horizontal and vertical lines\n",
    "ax.axhline(4.5*sig_1_4, ls = '--', c = 'k')\n",
    "plt.legend()\n"
   ]
  },
  {
   "cell_type": "code",
   "execution_count": null,
   "metadata": {},
   "outputs": [],
   "source": []
  }
 ],
 "metadata": {
  "kernelspec": {
   "display_name": "Python 3",
   "language": "python",
   "name": "python3"
  },
  "language_info": {
   "codemirror_mode": {
    "name": "ipython",
    "version": 3
   },
   "file_extension": ".py",
   "mimetype": "text/x-python",
   "name": "python",
   "nbconvert_exporter": "python",
   "pygments_lexer": "ipython3",
   "version": "3.7.0"
  }
 },
 "nbformat": 4,
 "nbformat_minor": 2
}
