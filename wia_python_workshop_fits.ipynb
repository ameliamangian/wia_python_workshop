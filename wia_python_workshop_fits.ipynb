{
 "cells": [
  {
   "cell_type": "code",
   "execution_count": 3,
   "metadata": {},
   "outputs": [],
   "source": [
    "import numpy as np\n",
    "import matplotlib.pyplot as plt\n",
    "from astropy.io import fits"
   ]
  },
  {
   "cell_type": "code",
   "execution_count": 35,
   "metadata": {},
   "outputs": [],
   "source": [
    "# https://stackoverflow.com/questions/19206332/gaussian-fit-for-python\n",
    "\n",
    "def gaussian1(x,x0,amp,sigma):\n",
    "    A = amp/np.sqrt(2*np.pi)*sigma\n",
    "    return A*np.exp(-(x-x0)**2/(2*sigma**2))"
   ]
  },
  {
   "cell_type": "code",
   "execution_count": 33,
   "metadata": {},
   "outputs": [],
   "source": [
    "# http://docs.astropy.org/en/stable/generated/examples/io/plot_fits-image.html\n",
    "# Check the above link for info on using FITS in python.\n",
    "\n",
    "bias_f = 'D_n20131112t1127_c13_r1472p01_biascor.fits'\n",
    "flat_f = 'D_n20131112t1127_r_c13_r1472p01_dflatcor.fits'\n",
    "des_f = 'DECam_00380036_09.fits'\n",
    "header = fits.getheader('DECam_00380036_09.fits')\n",
    "\n",
    "bias = fits.getdata(bias_f, ext = 0)\n",
    "flat = fits.getdata(flat_f, ext = 0)\n",
    "des = fits.getdata(des_f, ext = 0)\n"
   ]
  },
  {
   "cell_type": "code",
   "execution_count": 25,
   "metadata": {},
   "outputs": [],
   "source": [
    "#### DON'T WORRY ABOUT THIS SECTION.  THIS IS COMPLICATED STUFF  ####\n",
    "#### THAT I HAD TO DO FOR CLASS. THIS JUST CUTS OFF THE DATA     ####\n",
    "#### AT CERTAIN PIXELS BECAUSE OF THE MAUFACTURING OF THE CAMERA ####\n",
    "\n",
    "oScanA_beg = 2105; oScanA_end = 2154;\n",
    "oScanB_beg = 7; oScanB_end = 56;\n",
    "sciB_beg = 57; sciB_end = 1080;\n",
    "sciA_beg = 1081; sciA_end= 2104;\n",
    "des_sub = np.zeros([4096, 2048])\n",
    "y_start = 51\n",
    "\n",
    "i = 0\n",
    "for row in des:\n",
    "    medB = np.median(row[oScanB_beg-1:oScanB_end])\n",
    "    medA = np.median(row[oScanA_beg-1:oScanA_end])\n",
    "    subRow = np.zeros([2048])\n",
    "    if i > y_start-1:\n",
    "        for j in range(len(row)):\n",
    "            if j < sciB_end and j > sciB_beg +1:\n",
    "                subRow[j-57] = row[j] - medB\n",
    "            elif j < sciA_end:\n",
    "                subRow[j-57] = row[j] - medA\n",
    "        des_sub[i- 51] = subRow\n",
    "    i+=1"
   ]
  },
  {
   "cell_type": "code",
   "execution_count": 32,
   "metadata": {},
   "outputs": [
    {
     "data": {
      "image/png": "[encoded data removed]",
      "text/plain": [
       "<Figure size 432x288 with 1 Axes>"
      ]
     },
     "metadata": {
      "needs_background": "light"
     },
     "output_type": "display_data"
    }
   ],
   "source": [
    "# We want to check that our subtraction was correct. Let's check by plotting a row of data\n",
    "\n",
    "plt.plot(range(56, 2104), <subtracted row>, color = 'purple', label = 'Subtracted')\n",
    "plt.plot(range(<values to plot>), <raw row>, color = 'cyan', label = 'Raw')\n",
    "plt.xlabel('Pixel') # Here is how you set axes labels.\n",
    "plt.ylabel('Count')\n",
    "plt.title('Subtraction Check') # Here is how you write a title for your plot\n",
    "plt.legend() # This adds a legend\n",
    "plt.savefig('ampBias.png') # This saves your figure.  \n"
   ]
  },
  {
   "cell_type": "code",
   "execution_count": 30,
   "metadata": {},
   "outputs": [
    {
     "data": {
      "text/plain": [
       "array([[-5.99403626e+03,  4.62017702e+02,  2.98119732e+02, ...,\n",
       "         8.81601030e+01,  1.34624123e+01, -3.47149433e+04],\n",
       "       [-1.43930929e+04,  8.54867511e+02,  3.05434366e+02, ...,\n",
       "         4.05924573e+01,  3.02848655e+01, -2.95842305e+04],\n",
       "       [-1.62106568e+04,  1.40430968e+03,  3.10254731e+02, ...,\n",
       "         3.01132796e+01,  5.09582979e+01, -2.54919643e+04],\n",
       "       ...,\n",
       "       [ 4.95801356e+05,  6.42106363e+02,  3.73495851e+02, ...,\n",
       "         3.49177019e+02,  1.79503847e+01, -2.19537862e+05],\n",
       "       [-1.64459310e+04,  4.29313488e+02,  4.62477665e+02, ...,\n",
       "         7.49093460e+02,  3.86868970e+02, -8.18589878e+03],\n",
       "       [-5.74477677e+01, -1.95436484e+01, -2.75064322e+01, ...,\n",
       "        -2.49551253e+01, -2.17764891e+01, -1.34141950e+02]])"
      ]
     },
     "execution_count": 30,
     "metadata": {},
     "output_type": "execute_result"
    }
   ],
   "source": [
    "# to get the final reduction, you need to subtract out the bias and divivde by the flat. \n",
    "finData = "
   ]
  },
  {
   "cell_type": "code",
   "execution_count": 34,
   "metadata": {},
   "outputs": [],
   "source": [
    "# Writing the Fits file\n",
    "hdu = fits.PrimaryHDU() #We want our data to be the primary thing fits looks at\n",
    "hdu.<function> = <your final data> #Set the data option of the hdu equal to our final data product\n",
    "hdu.header = header #The fits header is important. It tells us everything we need to know anout the data. Keep it the same from before\n",
    "hdu.header[<field>] = <yourname> # We can still edit it though.  Create the AUTHOR field\n",
    "hdu.<function>(<filename>, overwrite=True) # Finally write to a fits file"
   ]
  },
  {
   "cell_type": "code",
   "execution_count": null,
   "metadata": {},
   "outputs": [],
   "source": []
  }
 ],
 "metadata": {
  "kernelspec": {
   "display_name": "Python 3",
   "language": "python",
   "name": "python3"
  },
  "language_info": {
   "codemirror_mode": {
    "name": "ipython",
    "version": 3
   },
   "file_extension": ".py",
   "mimetype": "text/x-python",
   "name": "python",
   "nbconvert_exporter": "python",
   "pygments_lexer": "ipython3",
   "version": "3.7.0"
  }
 },
 "nbformat": 4,
 "nbformat_minor": 2
}
